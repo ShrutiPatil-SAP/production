{
 "cells": [
  {
   "cell_type": "markdown",
   "metadata": {},
   "source": [
    "# Assignment 2"
   ]
  },
  {
   "cell_type": "markdown",
   "metadata": {},
   "source": [
    "In this assigment, we will work with the *Adult* data set. Please download the data from the [UCI Machine Learning Repository](https://archive.ics.uci.edu/dataset/2/adult). Extract the data files into the subdirectory: `../05_src/data/adult/` (relative to `./05_src/`)."
   ]
  },
  {
   "cell_type": "markdown",
   "metadata": {},
   "source": [
    "# Load the data\n",
    "\n",
    "Assuming that the files `adult.data` and `adult.test` are in `../05_src/data/adult/`, then you can use the code below to load them."
   ]
  },
  {
   "cell_type": "code",
   "execution_count": 6,
   "metadata": {},
   "outputs": [],
   "source": [
    "import pandas as pd\n",
    "columns = [\n",
    "    'age', 'workclass', 'fnlwgt', 'education', 'education-num', 'marital-status',\n",
    "    'occupation', 'relationship', 'race', 'sex', 'capital-gain', 'capital-loss', 'hours-per-week',\n",
    "    'native-country', 'income'\n",
    "]\n",
    "adult_dt = pd.read_csv('../../05_src/data/adult/adult.data', header=None, names=columns).assign(income=lambda x: (x.income.str.strip() == '>50K')*1)\n"
   ]
  },
  {
   "cell_type": "markdown",
   "metadata": {},
   "source": [
    "# Get X and Y\n",
    "\n",
    "Create the features data frame and target data:\n",
    "\n",
    "+ Create a dataframe `X` that holds the features (all columns that are not `income`).\n",
    "+ Create a dataframe `Y` that holds the target data (`income`).\n",
    "+ From `X` and `Y`, obtain the training and testing data sets:\n",
    "\n",
    "    - Use a train-test split of 70-30%. \n",
    "    - Set the random state of the splitting function to 42."
   ]
  },
  {
   "cell_type": "code",
   "execution_count": 7,
   "metadata": {},
   "outputs": [
    {
     "name": "stdout",
     "output_type": "stream",
     "text": [
      "X_train shape: (22792, 14)\n",
      "X_test shape: (9769, 14)\n",
      "Y_train shape: (22792,)\n",
      "Y_test shape: (9769,)\n"
     ]
    }
   ],
   "source": [
    "from sklearn.model_selection import train_test_split\n",
    "\n",
    "X = adult_dt.drop('income', axis=1)  # All columns except 'income'\n",
    "Y = adult_dt['income']               # Only the 'income' column\n",
    "\n",
    "# Split the data into training and testing sets (70-30 split)\n",
    "X_train, X_test, Y_train, Y_test = train_test_split(X, Y, test_size=0.3, random_state=42)\n",
    "\n",
    "print(\"X_train shape:\", X_train.shape)\n",
    "print(\"X_test shape:\", X_test.shape)\n",
    "print(\"Y_train shape:\", Y_train.shape)\n",
    "print(\"Y_test shape:\", Y_test.shape)\n"
   ]
  },
  {
   "cell_type": "markdown",
   "metadata": {},
   "source": [
    "## Random States\n",
    "\n",
    "Please comment: \n",
    "\n",
    "+ What is the [random state](https://scikit-learn.org/stable/glossary.html#term-random_state) of the [splitting function](https://scikit-learn.org/stable/modules/generated/sklearn.model_selection.train_test_split.html)? \n",
    "+ Why is it [useful](https://en.wikipedia.org/wiki/Reproducibility)?"
   ]
  },
  {
   "cell_type": "markdown",
   "metadata": {},
   "source": [
    "*(Comment here.)*"
   ]
  },
  {
   "cell_type": "markdown",
   "metadata": {},
   "source": [
    "Random state of the splitting function is the one that is used in train and test splits and cross functional validation in ML. It refers to a seed value for the random number generator. This seed ensures that the results are reproducible.It is useful in maintaining consistency and reliability in machine learning experiments."
   ]
  },
  {
   "cell_type": "markdown",
   "metadata": {},
   "source": [
    "# Preprocessing\n",
    "\n",
    "Create a [Column Transformer](https://scikit-learn.org/stable/modules/generated/sklearn.compose.ColumnTransformer.html) that treats the features as follows:\n",
    "\n",
    "- Numerical variables\n",
    "\n",
    "    * Apply [KNN-based imputation for completing missing values](https://scikit-learn.org/stable/modules/generated/sklearn.impute.KNNImputer.html):\n",
    "        \n",
    "        + Consider the 7 nearest neighbours.\n",
    "        + Weight each neighbour by the inverse of its distance, causing closer neigbours to have more influence than more distant ones.\n",
    "    * [Scale features using statistics that are robust to outliers](https://scikit-learn.org/stable/modules/generated/sklearn.preprocessing.RobustScaler.html#sklearn.preprocessing.RobustScaler).\n",
    "\n",
    "- Categorical variables: \n",
    "    \n",
    "    * Apply a [simple imputation strategy](https://scikit-learn.org/stable/modules/generated/sklearn.impute.SimpleImputer.html#sklearn.impute.SimpleImputer):\n",
    "\n",
    "        + Use the most frequent value to complete missing values, also called the *mode*.\n",
    "\n",
    "    * Apply [one-hot encoding](https://scikit-learn.org/stable/modules/generated/sklearn.preprocessing.OneHotEncoder.html):\n",
    "        \n",
    "        + Handle unknown labels if they exist.\n",
    "        + Drop one column for binary variables.\n",
    "    \n",
    "    \n",
    "The column transformer should look like this:\n",
    "\n",
    "![](./images/assignment_2__column_transformer.png)"
   ]
  },
  {
   "cell_type": "code",
   "execution_count": 9,
   "metadata": {},
   "outputs": [
    {
     "name": "stdout",
     "output_type": "stream",
     "text": [
      "     0         1    2    3\n",
      "0 -1.2 -0.095238  0.0  0.0\n",
      "1 -0.7 -0.904762  1.0  0.0\n",
      "2  0.0  0.000000  0.0  1.0\n",
      "3  0.3  0.904762  0.0  0.0\n",
      "4  0.8  1.809524  1.0  1.0\n"
     ]
    }
   ],
   "source": [
    "import numpy as np\n",
    "import pandas as pd\n",
    "from sklearn.compose import ColumnTransformer\n",
    "from sklearn.impute import KNNImputer, SimpleImputer\n",
    "from sklearn.pipeline import Pipeline  # Importing Pipeline\n",
    "from sklearn.preprocessing import OneHotEncoder\n",
    "from sklearn.preprocessing import RobustScaler\n",
    "data = pd.DataFrame({\n",
    "    'numerical_1': [1, 2, np.nan, 4, 5],\n",
    "    'numerical_2': [np.nan, 2, 3, 4, 5],\n",
    "    'categorical_1': ['A', 'B', 'A', np.nan, 'B'],\n",
    "    'categorical_2': [np.nan, 'X', 'Y', 'X', 'Y']\n",
    "})\n",
    "\n",
    "# Preprocessing steps\n",
    "numerical_features = ['numerical_1', 'numerical_2']\n",
    "categorical_features = ['categorical_1', 'categorical_2']\n",
    "\n",
    "# Create the column transformer\n",
    "preprocessor = ColumnTransformer(\n",
    "    transformers=[\n",
    "        ('num', \n",
    "         Pipeline(steps=[\n",
    "             ('knn_imputer', KNNImputer(n_neighbors=7, weights='distance')), \n",
    "             ('scaler', RobustScaler())\n",
    "         ]), \n",
    "         numerical_features),\n",
    "        \n",
    "        ('cat', \n",
    "         Pipeline(steps=[\n",
    "             ('simple_imputer', SimpleImputer(strategy='most_frequent')), \n",
    "             ('one_hot_encoder', OneHotEncoder(handle_unknown='ignore', drop='first'))\n",
    "         ]), \n",
    "         categorical_features)\n",
    "    ]\n",
    ")\n",
    "\n",
    "# Example of fitting the transformer on the data\n",
    "preprocessed_data = preprocessor.fit_transform(data)\n",
    "\n",
    "# Convert the result back to a DataFrame if needed\n",
    "preprocessed_df = pd.DataFrame(preprocessed_data)\n",
    "print(preprocessed_df)\n"
   ]
  },
  {
   "cell_type": "markdown",
   "metadata": {},
   "source": [
    "## Model Pipeline\n",
    "\n",
    "Create a [model pipeline](https://scikit-learn.org/stable/modules/generated/sklearn.pipeline.Pipeline.html): \n",
    "\n",
    "+ Add a step labelled `preprocessing` and assign the Column Transformer from the previous section.\n",
    "+ Add a step labelled `classifier` and assign a [`RandomForestClassifier()`](https://scikit-learn.org/stable/modules/generated/sklearn.ensemble.RandomForestClassifier.html) to it.\n",
    "\n",
    "The pipeline looks like this:\n",
    "\n",
    "![](./images/assignment_2__pipeline.png)"
   ]
  },
  {
   "cell_type": "code",
   "execution_count": 10,
   "metadata": {},
   "outputs": [
    {
     "name": "stdout",
     "output_type": "stream",
     "text": [
      "[0 1 0 1 0]\n"
     ]
    }
   ],
   "source": [
    "import numpy as np\n",
    "import pandas as pd\n",
    "from sklearn.compose import ColumnTransformer\n",
    "from sklearn.impute import KNNImputer, SimpleImputer\n",
    "from sklearn.pipeline import Pipeline  # Importing Pipeline\n",
    "from sklearn.preprocessing import OneHotEncoder, RobustScaler\n",
    "from sklearn.ensemble import RandomForestClassifier\n",
    "\n",
    "data = pd.DataFrame({\n",
    "    'numerical_1': [1, 2, np.nan, 4, 5],\n",
    "    'numerical_2': [np.nan, 2, 3, 4, 5],\n",
    "    'categorical_1': ['A', 'B', 'A', np.nan, 'B'],\n",
    "    'categorical_2': [np.nan, 'X', 'Y', 'X', 'Y'],\n",
    "    'target': [0, 1, 0, 1, 0]  # Example target variable for classification\n",
    "})\n",
    "\n",
    "# Define features and target\n",
    "X = data.drop('target', axis=1)  \n",
    "y = data['target']                \n",
    "\n",
    "# Define the preprocessing steps\n",
    "numerical_features = ['numerical_1', 'numerical_2']\n",
    "categorical_features = ['categorical_1', 'categorical_2']\n",
    "\n",
    "# Create the column transformer\n",
    "preprocessor = ColumnTransformer(\n",
    "    transformers=[\n",
    "        ('num', \n",
    "         Pipeline(steps=[\n",
    "             ('knn_imputer', KNNImputer(n_neighbors=7, weights='distance')), \n",
    "             ('scaler', RobustScaler())\n",
    "         ]), \n",
    "         numerical_features),\n",
    "        \n",
    "        ('cat', \n",
    "         Pipeline(steps=[\n",
    "             ('simple_imputer', SimpleImputer(strategy='most_frequent')), \n",
    "             ('one_hot_encoder', OneHotEncoder(handle_unknown='ignore', drop='first'))\n",
    "         ]), \n",
    "         categorical_features)\n",
    "    ]\n",
    ")\n",
    "# Create the model pipeline\n",
    "model_pipeline = Pipeline(steps=[\n",
    "    ('preprocessing', preprocessor),  \n",
    "    ('classifier', RandomForestClassifier())  \n",
    "model_pipeline.fit(X, y)\n",
    "# model_pipeline for predictions or evaluation\n",
    "predictions = model_pipeline.predict(X)\n",
    "print(predictions)\n"
   ]
  },
  {
   "cell_type": "markdown",
   "metadata": {},
   "source": [
    "# Cross-Validation\n",
    "\n",
    "Evaluate the model pipeline using [`cross_validate()`](https://scikit-learn.org/stable/modules/generated/sklearn.model_selection.cross_validate.html):\n",
    "\n",
    "+ Measure the following [preformance metrics](https://scikit-learn.org/stable/modules/model_evaluation.html#common-cases-predefined-values): negative log loss, ROC AUC, accuracy, and balanced accuracy.\n",
    "+ Report the training and validation results. \n",
    "+ Use five folds.\n"
   ]
  },
  {
   "cell_type": "code",
   "execution_count": 18,
   "metadata": {},
   "outputs": [],
   "source": [
    "from sklearn.compose import ColumnTransformer\n",
    "from sklearn.impute import KNNImputer, SimpleImputer\n",
    "from sklearn.preprocessing import OneHotEncoder, RobustScaler\n",
    "from sklearn.pipeline import Pipeline\n",
    "\n",
    "# Define numerical and categorical features\n",
    "numerical_features = ['age', 'fnlwgt', 'education-num', 'capital-gain', 'capital-loss', 'hours-per-week']\n",
    "categorical_features = ['workclass', 'education', 'marital-status', 'occupation', 'relationship', 'race', 'sex', 'native-country']\n",
    "\n",
    "# Create the column transformer\n",
    "preprocessor = ColumnTransformer(\n",
    "    transformers=[\n",
    "        ('num', \n",
    "         Pipeline(steps=[\n",
    "             ('knn_imputer', KNNImputer(n_neighbors=7, weights='distance')),\n",
    "             ('scaler', RobustScaler())\n",
    "         ]), \n",
    "         numerical_features),\n",
    "        \n",
    "        ('cat', \n",
    "         Pipeline(steps=[\n",
    "             ('simple_imputer', SimpleImputer(strategy='most_frequent')),\n",
    "             ('one_hot_encoder', OneHotEncoder(handle_unknown='ignore', drop='first'))\n",
    "         ]), \n",
    "         categorical_features)\n",
    "    ]\n",
    ")\n"
   ]
  },
  {
   "cell_type": "code",
   "execution_count": 19,
   "metadata": {},
   "outputs": [],
   "source": [
    "from sklearn.ensemble import RandomForestClassifier\n",
    "from sklearn.pipeline import Pipeline\n",
    "\n",
    "# Define the model pipeline\n",
    "model_pipeline = Pipeline(steps=[\n",
    "    ('preprocessing', preprocessor),\n",
    "    ('classifier', RandomForestClassifier())\n",
    "])\n"
   ]
  },
  {
   "cell_type": "code",
   "execution_count": 22,
   "metadata": {},
   "outputs": [
    {
     "name": "stderr",
     "output_type": "stream",
     "text": [
      "/opt/miniconda3/envs/dsi_participant/lib/python3.9/site-packages/sklearn/preprocessing/_encoders.py:242: UserWarning: Found unknown categories in columns [7] during transform. These unknown categories will be encoded as all zeros\n",
      "  warnings.warn(\n",
      "/opt/miniconda3/envs/dsi_participant/lib/python3.9/site-packages/sklearn/preprocessing/_encoders.py:242: UserWarning: Found unknown categories in columns [7] during transform. These unknown categories will be encoded as all zeros\n",
      "  warnings.warn(\n"
     ]
    },
    {
     "name": "stdout",
     "output_type": "stream",
     "text": [
      "Training Results:\n",
      "Negative Log Loss: -0.08135273731172007\n",
      "ROC AUC: 0.9999999967246861\n",
      "Accuracy: 0.9999561247154632\n",
      "Balanced Accuracy: 0.9999095329627693\n",
      "\n",
      "Validation Results:\n",
      "Negative Log Loss: -0.3561276508190201\n",
      "ROC AUC: 0.9037682528650983\n",
      "Accuracy: 0.8538088834019684\n",
      "Balanced Accuracy: 0.7761287853181011\n"
     ]
    }
   ],
   "source": [
    "from sklearn.model_selection import StratifiedKFold, cross_validate\n",
    "\n",
    "# Set up stratified k-fold cross-validation\n",
    "skf = StratifiedKFold(n_splits=5)\n",
    "\n",
    "# Define scoring metrics\n",
    "scoring = {\n",
    "    'neg_log_loss': 'neg_log_loss',\n",
    "    'roc_auc': 'roc_auc',\n",
    "    'accuracy': 'accuracy',\n",
    "    'balanced_accuracy': 'balanced_accuracy'\n",
    "}\n",
    "\n",
    "# Perform cross-validation\n",
    "cv_results = cross_validate(model_pipeline, X_train, Y_train, cv=skf, scoring=scoring, return_train_score=True)\n",
    "\n",
    "# Reporting the results\n",
    "print(\"Training Results:\")\n",
    "print(f\"Negative Log Loss: {np.mean(cv_results['train_neg_log_loss'])}\")\n",
    "print(f\"ROC AUC: {np.mean(cv_results['train_roc_auc'])}\")\n",
    "print(f\"Accuracy: {np.mean(cv_results['train_accuracy'])}\")\n",
    "print(f\"Balanced Accuracy: {np.mean(cv_results['train_balanced_accuracy'])}\")\n",
    "\n",
    "print(\"\\nValidation Results:\")\n",
    "print(f\"Negative Log Loss: {np.mean(cv_results['test_neg_log_loss'])}\")\n",
    "print(f\"ROC AUC: {np.mean(cv_results['test_roc_auc'])}\")\n",
    "print(f\"Accuracy: {np.mean(cv_results['test_accuracy'])}\")\n",
    "print(f\"Balanced Accuracy: {np.mean(cv_results['test_balanced_accuracy'])}\")\n",
    "\n",
    "\n",
    "\n"
   ]
  },
  {
   "cell_type": "markdown",
   "metadata": {},
   "source": [
    "Display the fold-level results as a pandas data frame and sorted by negative log loss of the test (validation) set."
   ]
  },
  {
   "cell_type": "code",
   "execution_count": 23,
   "metadata": {},
   "outputs": [
    {
     "data": {
      "text/html": [
       "<div>\n",
       "<style scoped>\n",
       "    .dataframe tbody tr th:only-of-type {\n",
       "        vertical-align: middle;\n",
       "    }\n",
       "\n",
       "    .dataframe tbody tr th {\n",
       "        vertical-align: top;\n",
       "    }\n",
       "\n",
       "    .dataframe thead th {\n",
       "        text-align: right;\n",
       "    }\n",
       "</style>\n",
       "<table border=\"1\" class=\"dataframe\">\n",
       "  <thead>\n",
       "    <tr style=\"text-align: right;\">\n",
       "      <th></th>\n",
       "      <th>fit_time</th>\n",
       "      <th>score_time</th>\n",
       "      <th>test_neg_log_loss</th>\n",
       "      <th>train_neg_log_loss</th>\n",
       "      <th>test_roc_auc</th>\n",
       "      <th>train_roc_auc</th>\n",
       "      <th>test_accuracy</th>\n",
       "      <th>train_accuracy</th>\n",
       "      <th>test_balanced_accuracy</th>\n",
       "      <th>train_balanced_accuracy</th>\n",
       "    </tr>\n",
       "  </thead>\n",
       "  <tbody>\n",
       "    <tr>\n",
       "      <th>3</th>\n",
       "      <td>5.786308</td>\n",
       "      <td>0.200097</td>\n",
       "      <td>-0.336616</td>\n",
       "      <td>-0.081675</td>\n",
       "      <td>0.906551</td>\n",
       "      <td>1.0</td>\n",
       "      <td>0.860026</td>\n",
       "      <td>0.999945</td>\n",
       "      <td>0.782388</td>\n",
       "      <td>0.999887</td>\n",
       "    </tr>\n",
       "    <tr>\n",
       "      <th>1</th>\n",
       "      <td>5.787002</td>\n",
       "      <td>0.201691</td>\n",
       "      <td>-0.353602</td>\n",
       "      <td>-0.080846</td>\n",
       "      <td>0.903076</td>\n",
       "      <td>1.0</td>\n",
       "      <td>0.845361</td>\n",
       "      <td>0.999945</td>\n",
       "      <td>0.765478</td>\n",
       "      <td>0.999887</td>\n",
       "    </tr>\n",
       "    <tr>\n",
       "      <th>2</th>\n",
       "      <td>5.745641</td>\n",
       "      <td>0.199652</td>\n",
       "      <td>-0.360349</td>\n",
       "      <td>-0.081139</td>\n",
       "      <td>0.902561</td>\n",
       "      <td>1.0</td>\n",
       "      <td>0.855638</td>\n",
       "      <td>1.000000</td>\n",
       "      <td>0.779184</td>\n",
       "      <td>1.000000</td>\n",
       "    </tr>\n",
       "    <tr>\n",
       "      <th>0</th>\n",
       "      <td>6.019570</td>\n",
       "      <td>0.216389</td>\n",
       "      <td>-0.365017</td>\n",
       "      <td>-0.081921</td>\n",
       "      <td>0.903450</td>\n",
       "      <td>1.0</td>\n",
       "      <td>0.850186</td>\n",
       "      <td>0.999945</td>\n",
       "      <td>0.776038</td>\n",
       "      <td>0.999887</td>\n",
       "    </tr>\n",
       "    <tr>\n",
       "      <th>4</th>\n",
       "      <td>6.029034</td>\n",
       "      <td>0.215567</td>\n",
       "      <td>-0.365055</td>\n",
       "      <td>-0.081182</td>\n",
       "      <td>0.903204</td>\n",
       "      <td>1.0</td>\n",
       "      <td>0.857832</td>\n",
       "      <td>0.999945</td>\n",
       "      <td>0.777555</td>\n",
       "      <td>0.999887</td>\n",
       "    </tr>\n",
       "  </tbody>\n",
       "</table>\n",
       "</div>"
      ],
      "text/plain": [
       "   fit_time  score_time  test_neg_log_loss  train_neg_log_loss  test_roc_auc  \\\n",
       "3  5.786308    0.200097          -0.336616           -0.081675      0.906551   \n",
       "1  5.787002    0.201691          -0.353602           -0.080846      0.903076   \n",
       "2  5.745641    0.199652          -0.360349           -0.081139      0.902561   \n",
       "0  6.019570    0.216389          -0.365017           -0.081921      0.903450   \n",
       "4  6.029034    0.215567          -0.365055           -0.081182      0.903204   \n",
       "\n",
       "   train_roc_auc  test_accuracy  train_accuracy  test_balanced_accuracy  \\\n",
       "3            1.0       0.860026        0.999945                0.782388   \n",
       "1            1.0       0.845361        0.999945                0.765478   \n",
       "2            1.0       0.855638        1.000000                0.779184   \n",
       "0            1.0       0.850186        0.999945                0.776038   \n",
       "4            1.0       0.857832        0.999945                0.777555   \n",
       "\n",
       "   train_balanced_accuracy  \n",
       "3                 0.999887  \n",
       "1                 0.999887  \n",
       "2                 1.000000  \n",
       "0                 0.999887  \n",
       "4                 0.999887  "
      ]
     },
     "execution_count": 23,
     "metadata": {},
     "output_type": "execute_result"
    }
   ],
   "source": [
    "import pandas as pd\n",
    "cv_results_df = pd.DataFrame(cv_results)\n",
    "\n",
    "# Sort by negative log loss in descending order\n",
    "cv_results_df_sorted = cv_results_df.sort_values(by='test_neg_log_loss', ascending=False)\n",
    "\n",
    "# Display the sorted results\n",
    "cv_results_df_sorted\n"
   ]
  },
  {
   "cell_type": "markdown",
   "metadata": {},
   "source": [
    "Calculate the mean of each metric. "
   ]
  },
  {
   "cell_type": "code",
   "execution_count": 25,
   "metadata": {},
   "outputs": [
    {
     "data": {
      "text/html": [
       "<div>\n",
       "<style scoped>\n",
       "    .dataframe tbody tr th:only-of-type {\n",
       "        vertical-align: middle;\n",
       "    }\n",
       "\n",
       "    .dataframe tbody tr th {\n",
       "        vertical-align: top;\n",
       "    }\n",
       "\n",
       "    .dataframe thead th {\n",
       "        text-align: right;\n",
       "    }\n",
       "</style>\n",
       "<table border=\"1\" class=\"dataframe\">\n",
       "  <thead>\n",
       "    <tr style=\"text-align: right;\">\n",
       "      <th></th>\n",
       "      <th>train_neg_log_loss</th>\n",
       "      <th>test_neg_log_loss</th>\n",
       "      <th>train_roc_auc</th>\n",
       "      <th>test_roc_auc</th>\n",
       "      <th>train_accuracy</th>\n",
       "      <th>test_accuracy</th>\n",
       "      <th>train_balanced_accuracy</th>\n",
       "      <th>test_balanced_accuracy</th>\n",
       "    </tr>\n",
       "  </thead>\n",
       "  <tbody>\n",
       "    <tr>\n",
       "      <th>0</th>\n",
       "      <td>-0.081353</td>\n",
       "      <td>-0.356128</td>\n",
       "      <td>1.0</td>\n",
       "      <td>0.903768</td>\n",
       "      <td>0.999956</td>\n",
       "      <td>0.853809</td>\n",
       "      <td>0.99991</td>\n",
       "      <td>0.776129</td>\n",
       "    </tr>\n",
       "  </tbody>\n",
       "</table>\n",
       "</div>"
      ],
      "text/plain": [
       "   train_neg_log_loss  test_neg_log_loss  train_roc_auc  test_roc_auc  \\\n",
       "0           -0.081353          -0.356128            1.0      0.903768   \n",
       "\n",
       "   train_accuracy  test_accuracy  train_balanced_accuracy  \\\n",
       "0        0.999956       0.853809                  0.99991   \n",
       "\n",
       "   test_balanced_accuracy  \n",
       "0                0.776129  "
      ]
     },
     "execution_count": 25,
     "metadata": {},
     "output_type": "execute_result"
    }
   ],
   "source": [
    "# Calculate the mean of each metric\n",
    "metrics_mean = {\n",
    "    'train_neg_log_loss': cv_results['train_neg_log_loss'].mean(),\n",
    "    'test_neg_log_loss': cv_results['test_neg_log_loss'].mean(),\n",
    "    'train_roc_auc': cv_results['train_roc_auc'].mean(),\n",
    "    'test_roc_auc': cv_results['test_roc_auc'].mean(),\n",
    "    'train_accuracy': cv_results['train_accuracy'].mean(),\n",
    "    'test_accuracy': cv_results['test_accuracy'].mean(),\n",
    "    'train_balanced_accuracy': cv_results['train_balanced_accuracy'].mean(),\n",
    "    'test_balanced_accuracy': cv_results['test_balanced_accuracy'].mean()\n",
    "}\n",
    "\n",
    "# Display the mean metrics\n",
    "metrics_mean_df = pd.DataFrame([metrics_mean])\n",
    "metrics_mean_df\n"
   ]
  },
  {
   "cell_type": "markdown",
   "metadata": {},
   "source": [
    "Calculate the same performance metrics (negative log loss, ROC AUC, accuracy, and balanced accuracy) using the testing data `X_test` and `Y_test`. Display results as a dictionary.\n",
    "\n",
    "*Tip*: both, `roc_auc()` and `neg_log_loss()` will require prediction scores from `pipe.predict_proba()`. However, for `roc_auc()` you should only pass the last column `Y_pred_proba[:, 1]`. Use `Y_pred_proba` with `neg_log_loss()`."
   ]
  },
  {
   "cell_type": "code",
   "execution_count": 27,
   "metadata": {},
   "outputs": [
    {
     "data": {
      "text/plain": [
       "{'neg_log_loss': -0.38178311500088813,\n",
       " 'roc_auc': 0.9010240353095236,\n",
       " 'accuracy': 0.8549493295117208,\n",
       " 'balanced_accuracy': 0.7754760484543678}"
      ]
     },
     "execution_count": 27,
     "metadata": {},
     "output_type": "execute_result"
    }
   ],
   "source": [
    "# Refit the model pipeline on the entire training data\n",
    "model_pipeline.fit(X_train, Y_train)\n",
    "\n",
    "# Get prediction probabilities for X_test\n",
    "Y_pred_proba = model_pipeline.predict_proba(X_test)\n",
    "\n",
    "# Calculate the performance metrics using Y_pred_proba for log loss and roc_auc\n",
    "test_metrics = {\n",
    "    'neg_log_loss': -log_loss(Y_test, Y_pred_proba),  # Negative log loss\n",
    "    'roc_auc': roc_auc_score(Y_test, Y_pred_proba[:, 1]),  # Only the positive class probabilities\n",
    "    'accuracy': accuracy_score(Y_test, model_pipeline.predict(X_test)),\n",
    "    'balanced_accuracy': balanced_accuracy_score(Y_test, model_pipeline.predict(X_test))\n",
    "}\n",
    "test_metrics\n"
   ]
  },
  {
   "cell_type": "markdown",
   "metadata": {},
   "source": [
    "# Target Recoding\n",
    "\n",
    "In the first code chunk of this document, we loaded the data and immediately recoded the target variable `income`. Why is this [convenient](https://scikit-learn.org/stable/modules/model_evaluation.html#binary-case)?\n",
    "\n",
    "The specific line was:\n",
    "\n",
    "```\n",
    "adult_dt = (pd.read_csv('../05_src/data/adult/adult.data', header = None, names = columns)\n",
    "              .assign(income = lambda x: (x.income.str.strip() == '>50K')*1))\n",
    "```"
   ]
  },
  {
   "cell_type": "markdown",
   "metadata": {},
   "source": [
    "(Answer here.)"
   ]
  },
  {
   "cell_type": "markdown",
   "metadata": {},
   "source": [
    "It is convinient because it easier to work with for binary classification tasks. By transforming the target variable immediately, we simplify thr subsequent steps, avoiding the need to reformat it later and reducing the risk of errors.It simplifies the target into binary format."
   ]
  },
  {
   "cell_type": "markdown",
   "metadata": {},
   "source": [
    "## Criteria\n",
    "\n",
    "The [rubric](./assignment_2_rubric_clean.xlsx) contains the criteria for assessment."
   ]
  },
  {
   "cell_type": "markdown",
   "metadata": {},
   "source": [
    "## Submission Information\n",
    "\n",
    "🚨 **Please review our [Assignment Submission Guide](https://github.com/UofT-DSI/onboarding/blob/main/onboarding_documents/submissions.md)** 🚨 for detailed instructions on how to format, branch, and submit your work. Following these guidelines is crucial for your submissions to be evaluated correctly.\n",
    "\n",
    "### Submission Parameters:\n",
    "* Submission Due Date: `HH:MM AM/PM - DD/MM/YYYY`\n",
    "* The branch name for your repo should be: `assignment-2`\n",
    "* What to submit for this assignment:\n",
    "    * This Jupyter Notebook (assignment_2.ipynb) should be populated and should be the only change in your pull request.\n",
    "* What the pull request link should look like for this assignment: `https://github.com/<your_github_username>/production/pull/<pr_id>`\n",
    "    * Open a private window in your browser. Copy and paste the link to your pull request into the address bar. Make sure you can see your pull request properly. This helps the technical facilitator and learning support staff review your submission easily.\n",
    "\n",
    "Checklist:\n",
    "- [ ] Created a branch with the correct naming convention.\n",
    "- [ ] Ensured that the repository is public.\n",
    "- [ ] Reviewed the PR description guidelines and adhered to them.\n",
    "- [ ] Verify that the link is accessible in a private browser window.\n",
    "\n",
    "If you encounter any difficulties or have questions, please don't hesitate to reach out to our team via our Slack at `#cohort-3-help`. Our Technical Facilitators and Learning Support staff are here to help you navigate any challenges."
   ]
  },
  {
   "cell_type": "markdown",
   "metadata": {},
   "source": [
    "# Reference\n",
    "\n",
    "Becker,Barry and Kohavi,Ronny. (1996). Adult. UCI Machine Learning Repository. https://doi.org/10.24432/C5XW20."
   ]
  }
 ],
 "metadata": {
  "kernelspec": {
   "display_name": "dsi_participant",
   "language": "python",
   "name": "python3"
  },
  "language_info": {
   "codemirror_mode": {
    "name": "ipython",
    "version": 3
   },
   "file_extension": ".py",
   "mimetype": "text/x-python",
   "name": "python",
   "nbconvert_exporter": "python",
   "pygments_lexer": "ipython3",
   "version": "3.9.19"
  }
 },
 "nbformat": 4,
 "nbformat_minor": 2
}
